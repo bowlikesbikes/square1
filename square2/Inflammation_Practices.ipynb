{
 "cells": [
  {
   "cell_type": "code",
   "execution_count": 1,
   "metadata": {},
   "outputs": [],
   "source": [
    "#this is using the swcarpentry practice python w inflammation data"
   ]
  },
  {
   "cell_type": "code",
   "execution_count": 5,
   "metadata": {},
   "outputs": [
    {
     "name": "stdout",
     "output_type": "stream",
     "text": [
      "oxygen\n",
      "first three characters ([0:3]): oxy\n",
      "Last character, eg [-1] :  n\n"
     ]
    }
   ],
   "source": [
    "#Slicing Practice\n",
    "element = 'oxygen'\n",
    "print(element)\n",
    "print('first three characters ([0:3]):', element[0:3])\n",
    "print('Last character, eg [-1] : ', element[-1])"
   ]
  },
  {
   "cell_type": "code",
   "execution_count": 13,
   "metadata": {},
   "outputs": [
    {
     "name": "stdin",
     "output_type": "stream",
     "text": [
      "Enter a word  carpentry\n"
     ]
    },
    {
     "name": "stdout",
     "output_type": "stream",
     "text": [
      "carpentry\n",
      "try\n",
      "\n"
     ]
    }
   ],
   "source": [
    "#writing a program to get a slice of the last three characters of an element, of any word\n",
    "test_string = input(\"Enter a word \")\n",
    "print(test_string)\n",
    "last_three = test_string[(len(test_string)-3): len(test_string)]\n",
    "print(last_three)\n",
    "print(test_string[3:3])\n"
   ]
  },
  {
   "cell_type": "code",
   "execution_count": 39,
   "metadata": {},
   "outputs": [
    {
     "name": "stdout",
     "output_type": "stream",
     "text": [
      "A = \n",
      "[[1 2 3]\n",
      " [4 5 6]\n",
      " [7 8 9]]\n",
      "B = \n",
      "[[1 2 3 1 2 3]\n",
      " [4 5 6 4 5 6]\n",
      " [7 8 9 7 8 9]]\n",
      "C = \n",
      "[[1 2 3]\n",
      " [4 5 6]\n",
      " [7 8 9]\n",
      " [1 2 3]\n",
      " [4 5 6]\n",
      " [7 8 9]]\n",
      "\n",
      "\n",
      "A shape = (3, 3)\n",
      "[[1]\n",
      " [4]\n",
      " [7]]\n",
      "[[3]\n",
      " [6]\n",
      " [9]]\n",
      "[[1 3]\n",
      " [4 6]\n",
      " [7 9]]\n"
     ]
    }
   ],
   "source": [
    "#stacking arrays\n",
    "import numpy\n",
    "A = numpy.array([[1,2,3], [4,5,6], [7,8,9]])\n",
    "print('A = ')\n",
    "print(A)\n",
    "\n",
    "B = numpy.hstack([A,A])\n",
    "print('B = ')\n",
    "print(B)\n",
    "\n",
    "C = numpy.vstack([A,A])\n",
    "print('C = ')\n",
    "print(C)\n",
    "print()\n",
    "print()\n",
    "shape_A = A.shape\n",
    "print('A shape =', shape_A)\n",
    "D = A[0:shape_A[0], :1]\n",
    "print(D)\n",
    "E = A[:, -1:]\n",
    "print(E)\n",
    "F = numpy.hstack([D,E])\n",
    "print(F)"
   ]
  },
  {
   "cell_type": "code",
   "execution_count": 56,
   "metadata": {},
   "outputs": [
    {
     "name": "stdout",
     "output_type": "stream",
     "text": [
      "[[0. 0. 1. ... 3. 0. 0.]\n",
      " [0. 1. 2. ... 1. 0. 1.]\n",
      " [0. 1. 1. ... 2. 1. 1.]\n",
      " ...\n",
      " [0. 1. 1. ... 1. 1. 1.]\n",
      " [0. 0. 0. ... 0. 2. 0.]\n",
      " [0. 0. 1. ... 1. 1. 0.]]\n"
     ]
    }
   ],
   "source": [
    "import numpy\n",
    "import os \n",
    "\n",
    "filename = r'C:\\Users\\bowri\\square1\\python-novice-inflammation\\data\\inflammation-01.csv'\n",
    "data = numpy.loadtxt(filename, delimiter=',')\n",
    "print(data)"
   ]
  },
  {
   "cell_type": "code",
   "execution_count": null,
   "metadata": {},
   "outputs": [],
   "source": []
  }
 ],
 "metadata": {
  "kernelspec": {
   "display_name": "Python 3",
   "language": "python",
   "name": "python3"
  },
  "language_info": {
   "codemirror_mode": {
    "name": "ipython",
    "version": 3
   },
   "file_extension": ".py",
   "mimetype": "text/x-python",
   "name": "python",
   "nbconvert_exporter": "python",
   "pygments_lexer": "ipython3",
   "version": "3.7.4"
  }
 },
 "nbformat": 4,
 "nbformat_minor": 4
}
